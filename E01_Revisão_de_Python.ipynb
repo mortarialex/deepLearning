{
  "nbformat": 4,
  "nbformat_minor": 0,
  "metadata": {
    "colab": {
      "provenance": []
    },
    "kernelspec": {
      "name": "python3",
      "display_name": "Python 3"
    },
    "language_info": {
      "name": "python"
    }
  },
  "cells": [
    {
      "cell_type": "code",
      "metadata": {
        "id": "eMRulnnoZ-mf"
      },
      "source": [
        "#@title\n",
        "%%capture\n",
        "!rm -rf *\n",
        "!gdown --id '1FthkfI1LhyO4pyg_yFr0CkCjXeEe3VJ3'\n",
        "!unzip *.zip\n",
        "!pip install git+https://github.com/grading/gradememaybe.git\n",
        "\n",
        "from IPython.display import YouTubeVideo\n",
        "from gofer import ok"
      ],
      "execution_count": null,
      "outputs": []
    },
    {
      "cell_type": "markdown",
      "metadata": {
        "id": "Q9sF-_ZoqXUM"
      },
      "source": [
        "#E01 - Revisão de Python\n",
        "\n",
        "Faça uma cópia deste documento e siga as instruções abaixo para solucionar os exercícios de $1$ a $7$. Após concluir todos exercícios, preencha o formulário de auto-avaliação para efetuar a entrega."
      ]
    },
    {
      "cell_type": "markdown",
      "metadata": {
        "id": "Z38hdMqo7gdu"
      },
      "source": [
        "# Parte 1 - Álgebra Linear"
      ]
    },
    {
      "cell_type": "code",
      "metadata": {
        "id": "xJoOX1MfamwE"
      },
      "source": [
        "YouTubeVideo('7oYe5Wikdxk')"
      ],
      "execution_count": null,
      "outputs": []
    },
    {
      "cell_type": "markdown",
      "metadata": {
        "id": "Cgv2ooRMuoJ8"
      },
      "source": [
        "## 1\n",
        "\n",
        "Após assistir ao vídeo acima, faça um código que importe a função \"cos\" do módulo \"math\" trocando o nome da função para \"cos1\". No mesmo código, também importe a função \"cos\" do módulo \"numpy\" e troque o nome para \"cos2\"."
      ]
    },
    {
      "cell_type": "code",
      "metadata": {
        "id": "BW3mXuDFV7td"
      },
      "source": [
        "# Seu código aqui\n"
      ],
      "execution_count": null,
      "outputs": []
    },
    {
      "cell_type": "code",
      "metadata": {
        "id": "v059ORwIegV9"
      },
      "source": [
        "ok.check('e01_1.py')"
      ],
      "execution_count": null,
      "outputs": []
    },
    {
      "cell_type": "code",
      "metadata": {
        "id": "JyM9JPJDvNVm"
      },
      "source": [
        "YouTubeVideo('Hv8JslLk4M0')"
      ],
      "execution_count": null,
      "outputs": []
    },
    {
      "cell_type": "markdown",
      "metadata": {
        "id": "S1_2Bdbkvnp7"
      },
      "source": [
        "## 2\n",
        "\n",
        "Mostre o que acontece ao tentar multiplicar uma lista nativa do Python por um número inteiro. Para fazer isso, tome como ponto de partida a lista de nome `a` abaixo, multiplique esta lista por `5`, e salve o resultado numa variável de nome `b`."
      ]
    },
    {
      "cell_type": "code",
      "metadata": {
        "id": "wdtkTDX9vUdU"
      },
      "source": [
        "a = [1, 2, 3]\n",
        "\n",
        "# Escreva seu código abaixo\n",
        "\n"
      ],
      "execution_count": null,
      "outputs": []
    },
    {
      "cell_type": "code",
      "metadata": {
        "id": "suBMZunAx_vH"
      },
      "source": [
        "ok.check('e01_2.py')"
      ],
      "execution_count": null,
      "outputs": []
    },
    {
      "cell_type": "markdown",
      "metadata": {
        "id": "1pxt4NzrzCvN"
      },
      "source": [
        "##3\n",
        "\n",
        "Crie uma matriz usando `array` do NumPy, com $100$ linhas (numeradas de $0$ a $99$) e $5$ colunas (numeradas de $0$ a $4$), onde cada elemento da linha $i$ e coluna $j$ é o resultado da multiplicação $i*j$ (onde $i$ e $j$ são inteiros). Grave o resultado na variável `c`."
      ]
    },
    {
      "cell_type": "code",
      "source": [
        "# Seu código aqui\n",
        "\n"
      ],
      "metadata": {
        "id": "-TQAaY9eMLct"
      },
      "execution_count": null,
      "outputs": []
    },
    {
      "cell_type": "code",
      "metadata": {
        "id": "xxnQR3gG4Ecl"
      },
      "source": [
        "ok.check('e01_3.py')"
      ],
      "execution_count": null,
      "outputs": []
    },
    {
      "cell_type": "markdown",
      "metadata": {
        "id": "-oVA5xfG6EwQ"
      },
      "source": [
        "## 4\n",
        "\n",
        "Faça um gráfico da função `y = 1.0 / (1.0 + np.exp(-x))` para $100$ valores de `x` igualmente distribuídos no intervalo entre $-5$ e $+5$. Seguindo o exemplo do vídeo, use linspsace do numpy, e a função plot do pyplot, submódulo do matplotlib. Salve a imagem para fazer upload no formulário de entrega desse exercício.\n"
      ]
    },
    {
      "cell_type": "code",
      "metadata": {
        "id": "s7LODpe16ZUH"
      },
      "source": [
        "# Seu código aqui\n",
        "\n"
      ],
      "execution_count": null,
      "outputs": []
    },
    {
      "cell_type": "markdown",
      "metadata": {
        "id": "6iBiZeWg7lXd"
      },
      "source": [
        "# Parte 2 - Orientação a Objetos"
      ]
    },
    {
      "cell_type": "code",
      "metadata": {
        "id": "r7NCvQK-7J5c"
      },
      "source": [
        "YouTubeVideo('TP1aAmGojPg')"
      ],
      "execution_count": null,
      "outputs": []
    },
    {
      "cell_type": "markdown",
      "metadata": {
        "id": "nKyjsxI-775f"
      },
      "source": [
        "##5\n",
        "\n",
        "Implemente o código das classes `Quadrado` e `Triangulo` como mostrado no vídeo."
      ]
    },
    {
      "cell_type": "code",
      "metadata": {
        "id": "dnmIlMvM77P8"
      },
      "source": [
        "# Escreva seu código aqui\n",
        "\n"
      ],
      "execution_count": null,
      "outputs": []
    },
    {
      "cell_type": "code",
      "metadata": {
        "id": "aADwXuQHozDy"
      },
      "source": [
        "ok.check('e01_5.py')"
      ],
      "execution_count": null,
      "outputs": []
    },
    {
      "cell_type": "markdown",
      "metadata": {
        "id": "zFsVK1rG791c"
      },
      "source": [
        "## 6\n",
        "\n",
        "No mesmo código acrescente também o código da classe `Circulo`, recebendo o parâmetro `raio` no construtor definindo sua propriedade `raio` e método `area()`. Siga o exemplo das classes `Quadrado` e `Triangulo` modificando apenas onde for necessário.\n"
      ]
    },
    {
      "cell_type": "code",
      "metadata": {
        "id": "l8MkwVpv8CT1"
      },
      "source": [
        "# Escreva seu código aqui\n",
        "\n"
      ],
      "execution_count": null,
      "outputs": []
    },
    {
      "cell_type": "code",
      "metadata": {
        "id": "rWtHNS-4c91w"
      },
      "source": [
        "ok.check('e01_6.py')"
      ],
      "execution_count": null,
      "outputs": []
    },
    {
      "cell_type": "markdown",
      "metadata": {
        "id": "EYdTM5Bud3q_"
      },
      "source": [
        "## 7\n",
        "\n",
        "Utilizando as classes acima, crie uma lista com $20$ objetos de cada classe (total de $60$ objetos), todos com propriedades, tais como `lado`, `base`, `altura` e `raio` aleatórias, todas com valores sorteados no intervalo entre `1` e `10`. Para fazer isso, utilize laço `for` (criando $20$ objetos de cada classe) e para criar as propriedades aleatórias use a função `randint(1,10)` do submódulo `random` do `numpy` (por exemplo, use `from numpy.random import randint` no início do código). Coloque todos objetos em uma única lista (não faça uma lista de listas, mas sim uma única lista, que vai sendo preenchida em cada laço com os $60$ objetos). O nome da variável que deve conter essa lista final deve ser `objs`.\n"
      ]
    },
    {
      "cell_type": "code",
      "metadata": {
        "id": "9SxgVRR-fcoK"
      },
      "source": [
        "# Seu código aqui\n",
        "\n"
      ],
      "execution_count": null,
      "outputs": []
    },
    {
      "cell_type": "code",
      "metadata": {
        "id": "LyFHcLlkgZgt"
      },
      "source": [
        "ok.check('e01_7.py')"
      ],
      "execution_count": null,
      "outputs": []
    },
    {
      "cell_type": "markdown",
      "metadata": {
        "id": "5kCoNfZslgtG"
      },
      "source": [
        "## 8\n",
        "Use a função `shuffle()` para embaralhar a ordem dos elementos na lista. A função `shuffle` também está no submódulo `random` do módulo `numpy`, ou seja, precisa ser importada.\n",
        "\n",
        "Após tudo isso calcule a soma total de todas as áreas desses objetos que estão contidos na lista, e mostre o resultado.\n",
        "\n",
        "Salve a área total numa variável de nome `soma`"
      ]
    },
    {
      "cell_type": "code",
      "metadata": {
        "id": "g6Z3nBPZl88h"
      },
      "source": [
        "# Seu código aqui\n"
      ],
      "execution_count": null,
      "outputs": []
    },
    {
      "cell_type": "code",
      "metadata": {
        "id": "SDygbVVOmGZj"
      },
      "source": [
        "ok.check('e01_8.py')"
      ],
      "execution_count": null,
      "outputs": []
    }
  ]
}